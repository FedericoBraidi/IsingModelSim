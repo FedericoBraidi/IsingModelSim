{
 "cells": [
  {
   "cell_type": "code",
   "execution_count": 1,
   "id": "e4025f83-0c23-4b1a-b176-29353e89942e",
   "metadata": {},
   "outputs": [],
   "source": [
    "import numpy as np \n",
    "#from matplotlib import use\n",
    "#use(\"nbAgg\")\n",
    "import matplotlib.pyplot as plt\n",
    "from Ising import Ising\n",
    "from time import process_time,time"
   ]
  },
  {
   "cell_type": "code",
   "execution_count": 2,
   "id": "0c75c0fc-28ab-4e13-978b-8f414edeada8",
   "metadata": {},
   "outputs": [],
   "source": [
    "temp = 0.4\n",
    "N = 50\n",
    "nmarkov = 50**2\n",
    "obj = Ising(temp=temp,N=N)"
   ]
  },
  {
   "cell_type": "code",
   "execution_count": 3,
   "id": "7279af53-1fe9-476a-b3bb-b745ac7870d7",
   "metadata": {},
   "outputs": [
    {
     "name": "stdout",
     "output_type": "stream",
     "text": [
      " cpu time for cycle t= 13.9787236\n"
     ]
    },
    {
     "data": {
      "image/png": "[encoded data removed]",
      "text/plain": [
       "<Figure size 800x800 with 6 Axes>"
      ]
     },
     "metadata": {},
     "output_type": "display_data"
    }
   ],
   "source": [
    "f = plt.figure(figsize=(10, 10), dpi=80); \n",
    "tic = process_time()\n",
    "print_times = [1,10,100,200,500,999]\n",
    "#print_times = [1,nmarkov/100,nmarkov/100*25,nmarkov/100*50,nmarkov/100*75,nmarkov-1]\n",
    "for i in range (1000):\n",
    "    table = obj.evoluzione()\n",
    "    if(i == print_times[0]):\n",
    "        fig0 = f.add_subplot(231)\n",
    "        fig0.imshow(table)\n",
    "    if(i == print_times[1]):\n",
    "        fig1 = f.add_subplot(232)\n",
    "        fig1.imshow(table)\n",
    "        f.show()\n",
    "    if(i == print_times[2]):\n",
    "        fig2 = f.add_subplot(233)\n",
    "        fig2.imshow(table)\n",
    "    if(i == print_times[3]):\n",
    "        fig3 = f.add_subplot(234)\n",
    "        fig3.imshow(table)\n",
    "    if(i == print_times[4]):\n",
    "        fig4 = f.add_subplot(235)\n",
    "        fig4.imshow(table)\n",
    "    if(i == print_times[5]):\n",
    "        fig5 = f.add_subplot(236)\n",
    "        fig5.imshow(table)\n",
    "    f.show()\n",
    "print(\" cpu time for cycle t=\", process_time()-tic)"
   ]
  },
  {
   "cell_type": "code",
   "execution_count": null,
   "id": "4701b2ca-3e5b-462f-8d67-c867ab8ad3e1",
   "metadata": {},
   "outputs": [],
   "source": [
    "Npoints = 10\n",
    "step_stabilizzazione = 1001\n",
    "step_media = 1001\n",
    "E = np.zeros(Npoints)\n",
    "M = np.zeros(Npoints)\n",
    "C = np.zeros(Npoints)\n",
    "temp = np.linspace(1,5,Npoints,endpoint=False)\n",
    "tic = process_time()\n",
    "\n",
    "for i in range(Npoints):\n",
    "    Et = 0\n",
    "    Mt = 0\n",
    "    Ct = 0\n",
    "    obj = Ising(temp=temp[i],N=N)\n",
    "    \n",
    "    for j in range(step_stabilizzazione):\n",
    "        obj.evoluzione()\n",
    "        \n",
    "    obj.Et = obj.energia()\n",
    "    obj.Mt = obj.magnetizzazione()\n",
    "    obj.Ct = obj.capacita()\n",
    "    \n",
    "    for j in range(step_media):\n",
    "        \n",
    "        obj.evoluzione()\n",
    "        Et += obj.get_energia()\n",
    "        Mt += obj.get_magnetizzazione()\n",
    "        Ct += obj.get_capacita()\n",
    "    \n",
    "    norm1 = ((N**2)*step_media) \n",
    "    norm2 = ((N**2)*(step_media**2))\n",
    "    E[i] = Et/norm1\n",
    "    M[i] = Mt/norm1\n",
    "    C[i] = Ct/norm2\n",
    "print(\" cpu time for cycle t=\", process_time()-tic)"
   ]
  },
  {
   "cell_type": "code",
   "execution_count": null,
   "id": "331c89a3-4003-4bb4-baee-163fa40d89e0",
   "metadata": {},
   "outputs": [],
   "source": [
    "plt.scatter(temp,E,marker=\"o\")"
   ]
  },
  {
   "cell_type": "code",
   "execution_count": null,
   "id": "451e4728-2a8d-4e9a-8849-1dad39dff200",
   "metadata": {},
   "outputs": [],
   "source": [
    "plt.scatter(temp,abs(M),marker=\"o\")"
   ]
  },
  {
   "cell_type": "code",
   "execution_count": null,
   "id": "3d705306-5312-4c8d-943a-506aaea7bd19",
   "metadata": {},
   "outputs": [],
   "source": [
    "plt.scatter(temp,C,marker=\"o\")"
   ]
  }
 ],
 "metadata": {
  "kernelspec": {
   "display_name": "Python 3 (ipykernel)",
   "language": "python",
   "name": "python3"
  },
  "language_info": {
   "codemirror_mode": {
    "name": "ipython",
    "version": 3
   },
   "file_extension": ".py",
   "mimetype": "text/x-python",
   "name": "python",
   "nbconvert_exporter": "python",
   "pygments_lexer": "ipython3",
   "version": "3.10.6"
  }
 },
 "nbformat": 4,
 "nbformat_minor": 5
}
